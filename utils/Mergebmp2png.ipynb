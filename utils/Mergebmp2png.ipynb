{
 "cells": [
  {
   "cell_type": "code",
   "execution_count": 4,
   "id": "2f15d62a",
   "metadata": {},
   "outputs": [
    {
     "name": "stdout",
     "output_type": "stream",
     "text": [
      "多张 BMP 图像合并完成，并保存为 PNG 文件。\n"
     ]
    }
   ],
   "source": [
    "from PIL import Image\n",
    "import os\n",
    "\n",
    "# 源文件夹和目标文件夹路径\n",
    "source_folder = '../SegPC-2021/masks_bmp'\n",
    "target_folder = '../SegPC-2021/masks'\n",
    "\n",
    "\n",
    "# 遍历源文件夹中的所有文件，按XXX进行分组\n",
    "files = os.listdir(source_folder)\n",
    "grouped_images = {}\n",
    "\n",
    "for file in files:\n",
    "    if file.endswith('.bmp'):\n",
    "        filename, _ = os.path.splitext(file)\n",
    "        key = filename.split('_')[0]\n",
    "        \n",
    "        if key not in grouped_images:\n",
    "            grouped_images[key] = []\n",
    "        \n",
    "        grouped_images[key].append(os.path.join(source_folder, file))\n",
    "\n",
    "# 合并相同XXX的BMP图像并保存为PNG文件\n",
    "for key, images in grouped_images.items():\n",
    "    # 创建一个空白的目标图像，大小与待合并图像相同\n",
    "    target_image = Image.new('RGB', (2560, 1920), color='black')\n",
    "    \n",
    "    for bmp_image_path in images:\n",
    "        with Image.open(bmp_image_path) as bmp_image:\n",
    "            # 提取非黑色部分（灰度值不为0的像素）\n",
    "            non_black_pixels = bmp_image.convert('L').point(lambda x: 255 if x != 0 else 0, mode='1')\n",
    "            \n",
    "            # 粘贴非黑色部分到目标图像，确保覆盖黑色部分但不重叠\n",
    "            target_image.paste(bmp_image, (0, 0), mask=non_black_pixels)\n",
    "    \n",
    "    # 保存合并后的图像为PNG文件\n",
    "    target_path = os.path.join(target_folder, f'{key}.png')\n",
    "    target_image.save(target_path, 'PNG')\n",
    "\n",
    "print('多张 BMP 图像合并完成，并保存为 PNG 文件。')"
   ]
  },
  {
   "cell_type": "code",
   "execution_count": null,
   "id": "0e4d1bc1",
   "metadata": {},
   "outputs": [],
   "source": []
  }
 ],
 "metadata": {
  "kernelspec": {
   "display_name": "UNet",
   "language": "python",
   "name": "unet"
  },
  "language_info": {
   "codemirror_mode": {
    "name": "ipython",
    "version": 3
   },
   "file_extension": ".py",
   "mimetype": "text/x-python",
   "name": "python",
   "nbconvert_exporter": "python",
   "pygments_lexer": "ipython3",
   "version": "3.9.19"
  }
 },
 "nbformat": 4,
 "nbformat_minor": 5
}
