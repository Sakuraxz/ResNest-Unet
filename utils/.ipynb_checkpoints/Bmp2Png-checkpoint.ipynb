{
 "cells": [
  {
   "cell_type": "code",
   "execution_count": 1,
   "id": "4f5f7137",
   "metadata": {},
   "outputs": [
    {
     "ename": "FileNotFoundError",
     "evalue": "[WinError 3] 系统找不到指定的路径。: '../SegPC_2021/images_bmp'",
     "output_type": "error",
     "traceback": [
      "\u001b[1;31m---------------------------------------------------------------------------\u001b[0m",
      "\u001b[1;31mFileNotFoundError\u001b[0m                         Traceback (most recent call last)",
      "Cell \u001b[1;32mIn[1], line 13\u001b[0m\n\u001b[0;32m     10\u001b[0m     os\u001b[38;5;241m.\u001b[39mmakedirs(target_dir)\n\u001b[0;32m     12\u001b[0m \u001b[38;5;66;03m# 遍历源目录中的所有bmp文件\u001b[39;00m\n\u001b[1;32m---> 13\u001b[0m \u001b[38;5;28;01mfor\u001b[39;00m file_name \u001b[38;5;129;01min\u001b[39;00m \u001b[43mos\u001b[49m\u001b[38;5;241;43m.\u001b[39;49m\u001b[43mlistdir\u001b[49m\u001b[43m(\u001b[49m\u001b[43msource_dir\u001b[49m\u001b[43m)\u001b[49m:\n\u001b[0;32m     14\u001b[0m     \u001b[38;5;28;01mif\u001b[39;00m file_name\u001b[38;5;241m.\u001b[39mendswith(\u001b[38;5;124m'\u001b[39m\u001b[38;5;124m.bmp\u001b[39m\u001b[38;5;124m'\u001b[39m):\n\u001b[0;32m     15\u001b[0m         \u001b[38;5;66;03m# 读取bmp文件\u001b[39;00m\n\u001b[0;32m     16\u001b[0m         bmp_path \u001b[38;5;241m=\u001b[39m os\u001b[38;5;241m.\u001b[39mpath\u001b[38;5;241m.\u001b[39mjoin(source_dir, file_name)\n",
      "\u001b[1;31mFileNotFoundError\u001b[0m: [WinError 3] 系统找不到指定的路径。: '../SegPC_2021/images_bmp'"
     ]
    }
   ],
   "source": [
    "import os\n",
    "from PIL import Image\n",
    "\n",
    "# 源目录和目标目录\n",
    "source_dir = '../SegPC-2021/images_bmp'\n",
    "target_dir = '../SegPC-2021/images'\n",
    "\n",
    "# 确保目标文件夹存在\n",
    "if not os.path.exists(target_dir):\n",
    "    os.makedirs(target_dir)\n",
    "\n",
    "# 遍历源目录中的所有bmp文件\n",
    "for file_name in os.listdir(source_dir):\n",
    "    if file_name.endswith('.bmp'):\n",
    "        # 读取bmp文件\n",
    "        bmp_path = os.path.join(source_dir, file_name)\n",
    "        img = Image.open(bmp_path)\n",
    "        \n",
    "        # 构造目标文件名，将后缀改为png\n",
    "        target_file_name = file_name.replace('.bmp', '.png')\n",
    "        target_path = os.path.join(target_dir, target_file_name)\n",
    "        \n",
    "        # 保存为png文件\n",
    "        img.save(target_path, 'PNG')\n",
    "        \n",
    "print(\"转换完成！\")"
   ]
  },
  {
   "cell_type": "code",
   "execution_count": null,
   "id": "c6e2dd95",
   "metadata": {},
   "outputs": [],
   "source": []
  }
 ],
 "metadata": {
  "kernelspec": {
   "display_name": "UNet",
   "language": "python",
   "name": "unet"
  },
  "language_info": {
   "codemirror_mode": {
    "name": "ipython",
    "version": 3
   },
   "file_extension": ".py",
   "mimetype": "text/x-python",
   "name": "python",
   "nbconvert_exporter": "python",
   "pygments_lexer": "ipython3",
   "version": "3.9.19"
  }
 },
 "nbformat": 4,
 "nbformat_minor": 5
}
