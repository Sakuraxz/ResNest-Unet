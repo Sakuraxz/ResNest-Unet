{
 "cells": [
  {
   "cell_type": "code",
   "execution_count": 2,
   "id": "14800e84",
   "metadata": {},
   "outputs": [
    {
     "name": "stdout",
     "output_type": "stream",
     "text": [
      "转换完成！\n"
     ]
    }
   ],
   "source": [
    "import os\n",
    "from PIL import Image\n",
    "\n",
    "# 源目录和目标目录\n",
    "source_dir = '../SegPC-2021/images_bmp'\n",
    "target_dir = '../SegPC-2021/images'\n",
    "\n",
    "# 确保目标文件夹存在\n",
    "if not os.path.exists(target_dir):\n",
    "    os.makedirs(target_dir)\n",
    "\n",
    "# 遍历源目录中的所有bmp文件\n",
    "for file_name in os.listdir(source_dir):\n",
    "    if file_name.endswith('.bmp'):\n",
    "        # 读取bmp文件\n",
    "        bmp_path = os.path.join(source_dir, file_name)\n",
    "        img = Image.open(bmp_path)\n",
    "        \n",
    "        # 构造目标文件名，将后缀改为png\n",
    "        target_file_name = file_name.replace('.bmp', '.png')\n",
    "        target_path = os.path.join(target_dir, target_file_name)\n",
    "        \n",
    "        # 保存为png文件\n",
    "        img.save(target_path, 'PNG')\n",
    "        \n",
    "print(\"转换完成！\")"
   ]
  },
  {
   "cell_type": "code",
   "execution_count": null,
   "id": "e044e941",
   "metadata": {},
   "outputs": [],
   "source": []
  }
 ],
 "metadata": {
  "kernelspec": {
   "display_name": "UNet",
   "language": "python",
   "name": "unet"
  },
  "language_info": {
   "codemirror_mode": {
    "name": "ipython",
    "version": 3
   },
   "file_extension": ".py",
   "mimetype": "text/x-python",
   "name": "python",
   "nbconvert_exporter": "python",
   "pygments_lexer": "ipython3",
   "version": "3.9.19"
  }
 },
 "nbformat": 4,
 "nbformat_minor": 5
}
